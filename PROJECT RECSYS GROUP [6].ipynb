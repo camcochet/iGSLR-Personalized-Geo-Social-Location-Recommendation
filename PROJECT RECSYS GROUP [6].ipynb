{
 "cells": [
  {
   "cell_type": "markdown",
   "metadata": {
    "colab_type": "text",
    "id": "UBo8N8dVaWzY"
   },
   "source": [
    "# Advanced Recommender Systems Lab\n",
    "\n",
    "This notebook is an implementation of the model iGSLR, a geo-social location recommendation model."
   ]
  },
  {
   "cell_type": "code",
   "execution_count": null,
   "metadata": {
    "colab": {},
    "colab_type": "code",
    "id": "CAlgGEHoBZvA"
   },
   "outputs": [],
   "source": [
    "import pandas as pd\n",
    "import os\n",
    "import sys\n",
    "import numpy as np\n",
    "from geopy.distance import geodesic \n",
    "from surprise.model_selection import train_test_split\n",
    "from surprise import Reader\n",
    "from surprise import Dataset\n",
    "import matplotlib.pyplot as plt\n",
    "from surprise import AlgoBase\n",
    "from surprise import PredictionImpossible\n",
    "from itertools import combinations"
   ]
  },
  {
   "cell_type": "markdown",
   "metadata": {
    "colab_type": "text",
    "id": "qAp2YKjHBZvD"
   },
   "source": [
    "## Processing of the dataset"
   ]
  },
  {
   "cell_type": "markdown",
   "metadata": {
    "colab_type": "text",
    "id": "BI_S6DaXokFq"
   },
   "source": [
    "The input dataset for this lab was collected from Gowalla, a popular LBSN that is often used to test recommendation methods with geographical dimensions. In practice the dataset contains user profiles, user friendship, location profiles, and users’ check-in history made before June 1, 2011. It contains 36,001,959 check-ins made by 407,533 users over 2,724,891 locations."
   ]
  },
  {
   "cell_type": "markdown",
   "metadata": {
    "colab_type": "text",
    "id": "GAr1u9zDVdfk"
   },
   "source": [
    "#### Load data"
   ]
  },
  {
   "cell_type": "code",
   "execution_count": null,
   "metadata": {
    "colab": {},
    "colab_type": "code",
    "id": "X4u3wjJ9BZvE"
   },
   "outputs": [],
   "source": [
    "checkins = pd.read_csv(\"gowalla_checkins.csv\")\n",
    "friendship = pd.read_csv(\"gowalla_friendship.csv\")\n",
    "locations = pd.read_csv(\"gowalla_locations.csv\")\n",
    "userinfo = pd.read_csv(\"gowalla_userinfo.csv\")"
   ]
  },
  {
   "cell_type": "markdown",
   "metadata": {
    "colab_type": "text",
    "id": "bA3EwTjlVjnT"
   },
   "source": [
    "#### Filter Data"
   ]
  },
  {
   "cell_type": "code",
   "execution_count": null,
   "metadata": {
    "colab": {},
    "colab_type": "code",
    "id": "qwySa3VFBZvG"
   },
   "outputs": [],
   "source": [
    "checkins_grouped = checkins.groupby('userid',as_index=False).count()\n",
    "id_checkins_filter = checkins_grouped[(checkins_grouped.placeid >= 5) & (checkins_grouped.placeid <= 50)].userid.values  # get the userid of users who have at least 5 and less than 50 check-ins\n",
    "\n",
    "checkins_filter = checkins[checkins.userid.isin(id_checkins_filter)]\n",
    "friendship_filter = friendship[friendship.userid1.isin(id_checkins_filter)]\n",
    "userinfo_filter = userinfo[userinfo.id.isin(id_checkins_filter)]"
   ]
  },
  {
   "cell_type": "markdown",
   "metadata": {
    "colab_type": "text",
    "id": "fyhd-a6jVq34"
   },
   "source": [
    "#### Compute df_user_friends"
   ]
  },
  {
   "cell_type": "markdown",
   "metadata": {
    "colab_type": "text",
    "id": "uFhySE_Mo3pk"
   },
   "source": [
    "Associate for each user the list of his friends."
   ]
  },
  {
   "cell_type": "code",
   "execution_count": 7,
   "metadata": {
    "colab": {
     "base_uri": "https://localhost:8080/",
     "height": 195
    },
    "colab_type": "code",
    "id": "rfvdorSzBZvL",
    "outputId": "173ec25d-1d2a-442c-f896-fa7af272a6f4"
   },
   "outputs": [
    {
     "data": {
      "text/html": [
       "<div>\n",
       "<style scoped>\n",
       "    .dataframe tbody tr th:only-of-type {\n",
       "        vertical-align: middle;\n",
       "    }\n",
       "\n",
       "    .dataframe tbody tr th {\n",
       "        vertical-align: top;\n",
       "    }\n",
       "\n",
       "    .dataframe thead th {\n",
       "        text-align: right;\n",
       "    }\n",
       "</style>\n",
       "<table border=\"1\" class=\"dataframe\">\n",
       "  <thead>\n",
       "    <tr style=\"text-align: right;\">\n",
       "      <th></th>\n",
       "      <th>userid1</th>\n",
       "      <th>friends_list</th>\n",
       "    </tr>\n",
       "  </thead>\n",
       "  <tbody>\n",
       "    <tr>\n",
       "      <th>0</th>\n",
       "      <td>15</td>\n",
       "      <td>[256, 578, 2819, 2053110, 136860, 52810, 59307...</td>\n",
       "    </tr>\n",
       "    <tr>\n",
       "      <th>1</th>\n",
       "      <td>37</td>\n",
       "      <td>[92715, 219, 97751]</td>\n",
       "    </tr>\n",
       "    <tr>\n",
       "      <th>2</th>\n",
       "      <td>45</td>\n",
       "      <td>[1290, 597, 1567]</td>\n",
       "    </tr>\n",
       "    <tr>\n",
       "      <th>3</th>\n",
       "      <td>53</td>\n",
       "      <td>[127744, 103943, 161602, 76303, 51728, 127249,...</td>\n",
       "    </tr>\n",
       "    <tr>\n",
       "      <th>4</th>\n",
       "      <td>81</td>\n",
       "      <td>[69506, 165411, 9767, 9229, 113, 46163, 5044, ...</td>\n",
       "    </tr>\n",
       "  </tbody>\n",
       "</table>\n",
       "</div>"
      ],
      "text/plain": [
       "   userid1                                       friends_list\n",
       "0       15  [256, 578, 2819, 2053110, 136860, 52810, 59307...\n",
       "1       37                                [92715, 219, 97751]\n",
       "2       45                                  [1290, 597, 1567]\n",
       "3       53  [127744, 103943, 161602, 76303, 51728, 127249,...\n",
       "4       81  [69506, 165411, 9767, 9229, 113, 46163, 5044, ..."
      ]
     },
     "execution_count": 7,
     "metadata": {
      "tags": []
     },
     "output_type": "execute_result"
    }
   ],
   "source": [
    "df_user_friends = friendship_filter.groupby('userid1')['userid2'].apply(list).reset_index(name='friends_list') \n",
    "df_user_friends.head()"
   ]
  },
  {
   "cell_type": "markdown",
   "metadata": {
    "colab_type": "text",
    "id": "2FOOLsqeVxCR"
   },
   "source": [
    "#### Compute df_user_locations"
   ]
  },
  {
   "cell_type": "markdown",
   "metadata": {
    "colab_type": "text",
    "id": "T_Z_-FKDo94j"
   },
   "source": [
    "Associate for each user the list of the successive locations he visited"
   ]
  },
  {
   "cell_type": "code",
   "execution_count": null,
   "metadata": {
    "colab": {},
    "colab_type": "code",
    "id": "59QaR-6TBZvN"
   },
   "outputs": [],
   "source": [
    "# merge checkins with locations to get the placeid, long and lat for each checkins\n",
    "checkins_locations = pd.merge(checkins_filter,locations,left_on=\"placeid\",right_on=\"id\",how=\"left\") \n",
    "checkins_locations = checkins_locations.dropna(subset = [\"placeid\",\"lng\",\"lat\"])\n",
    "\n",
    "df_user_locations = checkins_locations.groupby('userid')['id'].apply(list).reset_index(name='locations_list') \n",
    "df_user_locations[\"lng_lat\"] = checkins_locations.groupby('userid')[['lng', 'lat']].apply(lambda x: x.values.tolist()).values # add longitude + latitude"
   ]
  },
  {
   "cell_type": "code",
   "execution_count": 9,
   "metadata": {
    "colab": {
     "base_uri": "https://localhost:8080/",
     "height": 195
    },
    "colab_type": "code",
    "id": "uItE20VdWVU2",
    "outputId": "c2817377-75d8-4020-bbe0-41aeee2ce0e8"
   },
   "outputs": [
    {
     "data": {
      "text/html": [
       "<div>\n",
       "<style scoped>\n",
       "    .dataframe tbody tr th:only-of-type {\n",
       "        vertical-align: middle;\n",
       "    }\n",
       "\n",
       "    .dataframe tbody tr th {\n",
       "        vertical-align: top;\n",
       "    }\n",
       "\n",
       "    .dataframe thead th {\n",
       "        text-align: right;\n",
       "    }\n",
       "</style>\n",
       "<table border=\"1\" class=\"dataframe\">\n",
       "  <thead>\n",
       "    <tr style=\"text-align: right;\">\n",
       "      <th></th>\n",
       "      <th>userid</th>\n",
       "      <th>locations_list</th>\n",
       "      <th>lng_lat</th>\n",
       "    </tr>\n",
       "  </thead>\n",
       "  <tbody>\n",
       "    <tr>\n",
       "      <th>0</th>\n",
       "      <td>15</td>\n",
       "      <td>[7198013.0, 9591.0, 8947.0, 1050882.0, 14710.0...</td>\n",
       "      <td>[[-122.4038743973, 37.783129592399995], [-122....</td>\n",
       "    </tr>\n",
       "    <tr>\n",
       "      <th>1</th>\n",
       "      <td>37</td>\n",
       "      <td>[355154.0, 355396.0, 355356.0, 62846.0, 238753...</td>\n",
       "      <td>[[-118.0491015315, 34.1348080964], [-118.04883...</td>\n",
       "    </tr>\n",
       "    <tr>\n",
       "      <th>2</th>\n",
       "      <td>45</td>\n",
       "      <td>[7360178.0, 22370.0, 6563736.0, 37303.0, 34157...</td>\n",
       "      <td>[[-117.93418979239999, 33.616031032399995], [-...</td>\n",
       "    </tr>\n",
       "    <tr>\n",
       "      <th>3</th>\n",
       "      <td>53</td>\n",
       "      <td>[290022.0, 644423.0, 644423.0, 1541920.0, 2900...</td>\n",
       "      <td>[[-118.2852210667, 34.157458383299996], [-118....</td>\n",
       "    </tr>\n",
       "    <tr>\n",
       "      <th>4</th>\n",
       "      <td>81</td>\n",
       "      <td>[85577.0, 3142623.0, 128873.0, 6708957.0, 6591...</td>\n",
       "      <td>[[-157.9158818722, 21.335531795999998], [-157....</td>\n",
       "    </tr>\n",
       "  </tbody>\n",
       "</table>\n",
       "</div>"
      ],
      "text/plain": [
       "   userid  ...                                            lng_lat\n",
       "0      15  ...  [[-122.4038743973, 37.783129592399995], [-122....\n",
       "1      37  ...  [[-118.0491015315, 34.1348080964], [-118.04883...\n",
       "2      45  ...  [[-117.93418979239999, 33.616031032399995], [-...\n",
       "3      53  ...  [[-118.2852210667, 34.157458383299996], [-118....\n",
       "4      81  ...  [[-157.9158818722, 21.335531795999998], [-157....\n",
       "\n",
       "[5 rows x 3 columns]"
      ]
     },
     "execution_count": 9,
     "metadata": {
      "tags": []
     },
     "output_type": "execute_result"
    }
   ],
   "source": [
    "df_user_locations.head()"
   ]
  },
  {
   "cell_type": "markdown",
   "metadata": {
    "colab_type": "text",
    "id": "7HVwopVcV3GS"
   },
   "source": [
    "#### Compute df_frequencies"
   ]
  },
  {
   "cell_type": "markdown",
   "metadata": {
    "colab_type": "text",
    "id": "dG2JtIEspVZu"
   },
   "source": [
    "For each pair (user, location), we compute its corresponding visit frequency."
   ]
  },
  {
   "cell_type": "code",
   "execution_count": null,
   "metadata": {
    "colab": {},
    "colab_type": "code",
    "id": "cxBvYr7aPbLG"
   },
   "outputs": [],
   "source": [
    "df_user_locations_unstack = pd.DataFrame([[i[1], col2] for i in df_user_locations.itertuples() for col2 in i[2]],columns=['userid', 'placeid']) # compute each pair (user,location)\n",
    "df_user_locations_unstack = df_user_locations_unstack.dropna()\n",
    "df_frequencies = df_user_locations_unstack.groupby(['userid', 'placeid']).size().reset_index().rename(columns={0:'frequency'})"
   ]
  },
  {
   "cell_type": "code",
   "execution_count": null,
   "metadata": {
    "colab": {},
    "colab_type": "code",
    "id": "cUmHcPF0BZvc"
   },
   "outputs": [],
   "source": [
    "fmin = df_frequencies.frequency.min()\n",
    "fmax = df_frequencies.frequency.max()\n",
    "df_frequencies[\"ratings\"] = df_frequencies[\"frequency\"].apply(lambda x: 10*np.tanh(10*(x-fmin)/(fmax-fmin))) # update the frequencies into the range [0, 10]"
   ]
  },
  {
   "cell_type": "code",
   "execution_count": 12,
   "metadata": {
    "colab": {
     "base_uri": "https://localhost:8080/",
     "height": 195
    },
    "colab_type": "code",
    "id": "fH13wLFUWXqx",
    "outputId": "2dbaf15b-fc37-466b-e6aa-483d490d87cf"
   },
   "outputs": [
    {
     "data": {
      "text/html": [
       "<div>\n",
       "<style scoped>\n",
       "    .dataframe tbody tr th:only-of-type {\n",
       "        vertical-align: middle;\n",
       "    }\n",
       "\n",
       "    .dataframe tbody tr th {\n",
       "        vertical-align: top;\n",
       "    }\n",
       "\n",
       "    .dataframe thead th {\n",
       "        text-align: right;\n",
       "    }\n",
       "</style>\n",
       "<table border=\"1\" class=\"dataframe\">\n",
       "  <thead>\n",
       "    <tr style=\"text-align: right;\">\n",
       "      <th></th>\n",
       "      <th>userid</th>\n",
       "      <th>placeid</th>\n",
       "      <th>frequency</th>\n",
       "      <th>ratings</th>\n",
       "    </tr>\n",
       "  </thead>\n",
       "  <tbody>\n",
       "    <tr>\n",
       "      <th>0</th>\n",
       "      <td>15</td>\n",
       "      <td>8904.0</td>\n",
       "      <td>1</td>\n",
       "      <td>0.000000</td>\n",
       "    </tr>\n",
       "    <tr>\n",
       "      <th>1</th>\n",
       "      <td>15</td>\n",
       "      <td>8947.0</td>\n",
       "      <td>2</td>\n",
       "      <td>2.186351</td>\n",
       "    </tr>\n",
       "    <tr>\n",
       "      <th>2</th>\n",
       "      <td>15</td>\n",
       "      <td>9073.0</td>\n",
       "      <td>1</td>\n",
       "      <td>0.000000</td>\n",
       "    </tr>\n",
       "    <tr>\n",
       "      <th>3</th>\n",
       "      <td>15</td>\n",
       "      <td>9186.0</td>\n",
       "      <td>1</td>\n",
       "      <td>0.000000</td>\n",
       "    </tr>\n",
       "    <tr>\n",
       "      <th>4</th>\n",
       "      <td>15</td>\n",
       "      <td>9591.0</td>\n",
       "      <td>1</td>\n",
       "      <td>0.000000</td>\n",
       "    </tr>\n",
       "  </tbody>\n",
       "</table>\n",
       "</div>"
      ],
      "text/plain": [
       "   userid  placeid  frequency   ratings\n",
       "0      15   8904.0          1  0.000000\n",
       "1      15   8947.0          2  2.186351\n",
       "2      15   9073.0          1  0.000000\n",
       "3      15   9186.0          1  0.000000\n",
       "4      15   9591.0          1  0.000000"
      ]
     },
     "execution_count": 12,
     "metadata": {
      "tags": []
     },
     "output_type": "execute_result"
    }
   ],
   "source": [
    "df_frequencies.head()"
   ]
  },
  {
   "cell_type": "code",
   "execution_count": 13,
   "metadata": {
    "colab": {
     "base_uri": "https://localhost:8080/",
     "height": 295
    },
    "colab_type": "code",
    "id": "TuWTryvtLC8o",
    "outputId": "63671406-89cc-4c47-f5be-95afa3d5b169"
   },
   "outputs": [
    {
     "data": {
      "image/png": "[encoded data removed]",
      "text/plain": [
       "<Figure size 432x288 with 1 Axes>"
      ]
     },
     "metadata": {
      "needs_background": "light",
      "tags": []
     },
     "output_type": "display_data"
    }
   ],
   "source": [
    "df_frequencies.ratings.hist(bins=20)\n",
    "plt.xlabel(\"Rate\")\n",
    "plt.title(\"Distribution of rates\");"
   ]
  },
  {
   "cell_type": "markdown",
   "metadata": {
    "colab_type": "text",
    "id": "yM-NNwQ-WC-Y"
   },
   "source": [
    "#### Train test set split"
   ]
  },
  {
   "cell_type": "markdown",
   "metadata": {
    "colab_type": "text",
    "id": "hF148TKPps4q"
   },
   "source": [
    "Load df_frequencies into the Surprise framework to split into a 75% trainset and 25% testset."
   ]
  },
  {
   "cell_type": "code",
   "execution_count": null,
   "metadata": {
    "colab": {},
    "colab_type": "code",
    "id": "PM6_P2oJE6UE"
   },
   "outputs": [],
   "source": [
    "reader = Reader(rating_scale=(0, 10))\n",
    "data = Dataset.load_from_df(df_frequencies[['userid', 'placeid', 'ratings']], reader)\n",
    "trainset, testset = train_test_split(data, test_size=.25)"
   ]
  },
  {
   "cell_type": "markdown",
   "metadata": {
    "colab_type": "text",
    "id": "ENwIvX3MhYyJ"
   },
   "source": [
    "#### Get Rate"
   ]
  },
  {
   "cell_type": "markdown",
   "metadata": {
    "colab_type": "text",
    "id": "ylCnY4qyqQxj"
   },
   "source": [
    "In order to get the rate that a user gives to a location from the trainset surprise, we create a function get_rate. "
   ]
  },
  {
   "cell_type": "code",
   "execution_count": null,
   "metadata": {
    "colab": {},
    "colab_type": "code",
    "id": "5BMo7kzenD7M"
   },
   "outputs": [],
   "source": [
    "def get_rate(user,location,trainset) : \n",
    "\n",
    "    \"\"\"\n",
    "    Return the rate that a user gives to a location\n",
    "\n",
    "    user = id of the user\n",
    "    location = id of the location\n",
    "    trainset \n",
    "\n",
    "    \"\"\"\n",
    "\n",
    "    inner_iid = trainset.to_inner_iid(location) # get the inner id of the location\n",
    "    inner_uid = trainset.to_inner_uid(user) # get the inner id of the user\n",
    "\n",
    "    res_ir = trainset.ir[inner_iid] # get rates given for the location\n",
    "    uid_ir = list(map(lambda x :x[0],res_ir)) \n",
    "    rate_ir = list(map(lambda x :x[1],res_ir)) \n",
    "\n",
    "    if uid_ir.count(uid_ir) == 1 :\n",
    "        return rate_ir[uid_ir.index(inner_uid)]\n",
    "\n",
    "    else : # if the user did not rate the location : 0\n",
    "        return 0"
   ]
  },
  {
   "cell_type": "markdown",
   "metadata": {
    "colab_type": "text",
    "id": "zR3ikMdfBZve"
   },
   "source": [
    "## Geographical Computations"
   ]
  },
  {
   "cell_type": "markdown",
   "metadata": {
    "colab_type": "text",
    "id": "Kp5a2G6Fqj6D"
   },
   "source": [
    "We create in this part all necessary functions to compute the probability that user u will visit a location."
   ]
  },
  {
   "cell_type": "code",
   "execution_count": null,
   "metadata": {
    "colab": {},
    "colab_type": "code",
    "id": "ztOfTXGsBZve"
   },
   "outputs": [],
   "source": [
    "def get_pairs(lst) :\n",
    "\n",
    "    \"\"\"\n",
    "    Return the pairs of all elements in the list\n",
    "\n",
    "    lst = list of placeid\n",
    "\n",
    "    \"\"\"\n",
    "\n",
    "    if len(lst) != 1 :\n",
    "        return list(combinations(lst,2))\n",
    "\n",
    "    else :\n",
    "        return [] # it returns [] if the list only contains one location"
   ]
  },
  {
   "cell_type": "code",
   "execution_count": null,
   "metadata": {
    "colab": {},
    "colab_type": "code",
    "id": "hv-2ZqYmBZvi"
   },
   "outputs": [],
   "source": [
    "def get_distance(pairs) : \n",
    "\n",
    "    \"\"\"\n",
    "    Return the distance in km for all pairs\n",
    "\n",
    "    pairs = list \n",
    "\n",
    "    \"\"\"\n",
    "    \n",
    "    dist_list = []\n",
    "\n",
    "    if pairs != [] :\n",
    "    \n",
    "        for pair in pairs :\n",
    "\n",
    "            # get latitute and longitude for the first element\n",
    "            lat0 = locations[locations.id == pair[0]].lat.values\n",
    "            lng0 = locations[locations.id == pair[0]].lng.values\n",
    "\n",
    "            # get latitute and longitude for the second element\n",
    "            lat1 = locations[locations.id == pair[1]].lat.values\n",
    "            lng1 = locations[locations.id == pair[1]].lng.values\n",
    "            \n",
    "            # compute distance in km\n",
    "            dist_list.append(geodesic((lat0,lng0), (lat1,lng1)).km)\n",
    "        \n",
    "        return dist_list\n",
    "\n",
    "    else : # if the list is null\n",
    "        return []"
   ]
  },
  {
   "cell_type": "code",
   "execution_count": 1,
   "metadata": {
    "colab": {},
    "colab_type": "code",
    "id": "bVHQpMw31s3Z"
   },
   "outputs": [],
   "source": [
    "def compute_geo(user) :\n",
    "\n",
    "    \"\"\"\n",
    "    Return the list of all locations the user has been located to (Lu)\n",
    "    and the list of distance between each pair of locations (D)\n",
    "\n",
    "    user = id of the user\n",
    "\n",
    "    \"\"\"\n",
    "\n",
    "    Lu = list(set(df_user_locations[df_user_locations.userid == user].locations_list.values[0]))\n",
    "    pairs = get_pairs(Lu)\n",
    "    D = get_distance(pairs)\n",
    "    \n",
    "    return Lu,D"
   ]
  },
  {
   "cell_type": "code",
   "execution_count": null,
   "metadata": {
    "colab": {},
    "colab_type": "code",
    "id": "t-dY9FVnBZvm"
   },
   "outputs": [],
   "source": [
    "def kernel(x) : \n",
    "\n",
    "    \"\"\"\n",
    "    Return the normal kernel function with fixed bandwidth\n",
    "\n",
    "    \"\"\"\n",
    "\n",
    "    res = (1/np.sqrt(2*np.pi))*np.exp(-x**2/2)\n",
    "    \n",
    "    return res"
   ]
  },
  {
   "cell_type": "code",
   "execution_count": null,
   "metadata": {
    "colab": {},
    "colab_type": "code",
    "id": "Y6RRhatRiiB5"
   },
   "outputs": [],
   "source": [
    "def get_density(d,D,Lu) :\n",
    "\n",
    "    \"\"\"\n",
    "    Return the density (equation 2) of any new given distance d\n",
    "\n",
    "    d = distance\n",
    "    D = the list of distance between each pair of locations\n",
    "    Lu = the list of all locations he has been located to\n",
    "\n",
    "    \"\"\"\n",
    "\n",
    "    sigma = np.std(D)\n",
    "    n = len(Lu)\n",
    "    h = 1.06*sigma*n**(-1/5)\n",
    "    D2 = list(map(lambda x : (d-x)/h,D))\n",
    "    density = 1/(len(D)*h)*sum(list(map(kernel,D2)))\n",
    "\n",
    "    return density\n"
   ]
  },
  {
   "cell_type": "code",
   "execution_count": null,
   "metadata": {
    "colab": {},
    "colab_type": "code",
    "id": "_4sFC0o4kBr7"
   },
   "outputs": [],
   "source": [
    "def geo_proba(li,Lu,D) :\n",
    "\n",
    "    \"\"\"\n",
    "    Return the empirical mean probability p(li|Lu) of any new location for any given user (equation 3)\n",
    "\n",
    "    li = [long,lat] of the location\n",
    "    Lu = the list of all locations he has been located to\n",
    "    D = the list of distance between each pair of locations\n",
    "\n",
    "    \"\"\"\n",
    "\n",
    "    n = len(Lu)\n",
    "    d = []\n",
    "\n",
    "    lat_i = li[1]\n",
    "    long_i = li[0]\n",
    "\n",
    "    for l in Lu :\n",
    "\n",
    "        long_j = locations[locations.id == l].lng.values[0] # get the longitude\n",
    "        lat_j = locations[locations.id == l].lat.values[0] # get the latitude\n",
    "\n",
    "        d.append(geodesic((lat_j,long_j), (lat_i,long_i)).km) # compute the distance in km\n",
    "\n",
    "    density_list = list(map(lambda x : get_density(x,D,Lu),d))\n",
    "\n",
    "    return np.mean(density_list)"
   ]
  },
  {
   "cell_type": "markdown",
   "metadata": {
    "colab_type": "text",
    "id": "im8tofWEBZvr"
   },
   "source": [
    "## Social computations"
   ]
  },
  {
   "cell_type": "markdown",
   "metadata": {
    "colab_type": "text",
    "id": "XgKMAMH-rT0a"
   },
   "source": [
    "We create in this part all necessary functions to compute the probability p_hat."
   ]
  },
  {
   "cell_type": "code",
   "execution_count": null,
   "metadata": {
    "colab": {},
    "colab_type": "code",
    "id": "6rCl7u7hBZvt"
   },
   "outputs": [],
   "source": [
    "def social_similarity(user_i,user_k) :\n",
    "\n",
    "    \"\"\"\n",
    "    Return the social similarity between user_i and user_k (equation 4)\n",
    "\n",
    "    user_i, user_k = id of the user\n",
    "\n",
    "    \"\"\"\n",
    "    \n",
    "    list1 = df_user_friends[df_user_friends.userid1 == user_i].friends_list.values[0] # friends of user_i\n",
    "    list2 = df_user_friends[df_user_friends.userid1 == user_k].friends_list.values[0] # friends of user_k\n",
    "    sim = len(list(set(list1) & set(list2))) / len(list(set(list1) | set(list2)))\n",
    "\n",
    "    return sim"
   ]
  },
  {
   "cell_type": "code",
   "execution_count": null,
   "metadata": {
    "colab": {},
    "colab_type": "code",
    "id": "0sW55wqJ1hit"
   },
   "outputs": [],
   "source": [
    "def user_is_in_trainset(user) :\n",
    "\n",
    "    \"\"\"\n",
    "    Return true if user is in the trainset\n",
    "\n",
    "    user = id of the user\n",
    "\n",
    "    \"\"\"\n",
    "\n",
    "    try :\n",
    "        trainset.to_inner_uid(user)\n",
    "        res = 1\n",
    "    except :\n",
    "        res = 0\n",
    "\n",
    "    return res"
   ]
  },
  {
   "cell_type": "code",
   "execution_count": null,
   "metadata": {
    "colab": {},
    "colab_type": "code",
    "id": "6fWJ2e3okvzQ"
   },
   "outputs": [],
   "source": [
    "def item_is_in_trainset(item) :\n",
    "\n",
    "    \"\"\"\n",
    "    Return true if item is in the trainset\n",
    "\n",
    "    item = id of the item\n",
    "\n",
    "    \"\"\"\n",
    "\n",
    "    try :\n",
    "        trainset.to_inner_iid(item)\n",
    "        res = 1\n",
    "    except :\n",
    "        res = 0\n",
    "\n",
    "    return res"
   ]
  },
  {
   "cell_type": "code",
   "execution_count": null,
   "metadata": {
    "colab": {},
    "colab_type": "code",
    "id": "ES0a2wpFBZvv"
   },
   "outputs": [],
   "source": [
    "def r_hat(user_i,location_j,trainset,F_i) :\n",
    "\n",
    "    \"\"\"\n",
    "    Return r_hat \n",
    "\n",
    "    user_i = id of the user\n",
    "    location_j = id of the location\n",
    "    trainset\n",
    "    F_i = list of friends of user_i\n",
    "    \n",
    "    \"\"\"\n",
    "\n",
    "    rate_j = np.zeros(len(F_i))\n",
    "    sim_list = np.zeros(len(F_i))\n",
    "\n",
    "    for i,user in enumerate(F_i) :\n",
    "\n",
    "        rate_j[i] = get_rate(user,location_j,trainset)\n",
    "        sim_list[i] = social_similarity(user_i,user)\n",
    "\n",
    "    return np.dot(sim_list,rate_j) / max(np.sum(sim_list),0.01)"
   ]
  },
  {
   "cell_type": "code",
   "execution_count": null,
   "metadata": {
    "colab": {},
    "colab_type": "code",
    "id": "tulJ8hhYrawy"
   },
   "outputs": [],
   "source": [
    "def p_hat(user_i,location_j,L,trainset,Li) :\n",
    "\n",
    "    \"\"\"\n",
    "    Return p_hat (equation 5)\n",
    "\n",
    "    user_i = id \n",
    "    location_j = id\n",
    "    L = list of locations in trainset\n",
    "    Li = the list of all locations user_i has been located to\n",
    "\n",
    "    \"\"\"\n",
    "\n",
    "    L_copy = list(set(L)- set(Li))\n",
    "    L_copy = [i for i in L_copy if item_is_in_trainset(i)]\n",
    "    L_copy = L_copy[:500] # reduce the size because of complexity\n",
    "    F_i = df_user_friends[df_user_friends.userid1 == user_i].friends_list.values[0]\n",
    "    F_i = [i for i in F_i if user_is_in_trainset(i)]\n",
    "\n",
    "    if F_i == [] :\n",
    "\n",
    "        return np.nan\n",
    "\n",
    "    else :\n",
    "\n",
    "        numerator = r_hat(user_i,location_j,trainset,F_i)\n",
    "        denominator = max(max(list(map(lambda x : r_hat(user_i,x,trainset,F_i),L_copy))),0.01)\n",
    "        \n",
    "        return numerator/denominator"
   ]
  },
  {
   "cell_type": "markdown",
   "metadata": {
    "colab_type": "text",
    "id": "n6LAIwg7peJa"
   },
   "source": [
    "## Generate and Test Recommendations"
   ]
  },
  {
   "cell_type": "markdown",
   "metadata": {
    "colab_type": "text",
    "id": "Q-yXDnZqsPwU"
   },
   "source": [
    "We create a new prediction algorithm thanks to the package Surprise. "
   ]
  },
  {
   "cell_type": "code",
   "execution_count": null,
   "metadata": {
    "colab": {},
    "colab_type": "code",
    "id": "O8U0u9BMsD2k"
   },
   "outputs": [],
   "source": [
    "class GSLR(AlgoBase):\n",
    "\n",
    "    def __init__(self):\n",
    "\n",
    "        # Always call base method before doing anything.\n",
    "        AlgoBase.__init__(self)\n",
    "\n",
    "    def fit(self,trainset):\n",
    "\n",
    "        AlgoBase.fit(self, trainset)\n",
    "\n",
    "        self.trainset = trainset\n",
    "\n",
    "        return self\n",
    "\n",
    "    def estimate(self, u, i):\n",
    "\n",
    "        # u = user \n",
    "        # i = location \n",
    "\n",
    "        # If the user or the location is not in the trainset\n",
    "        if not (user_is_in_trainset(u) and item_is_in_trainset(i)) :\n",
    "            print('User and/or item is unkown.')\n",
    "            return np.nan\n",
    "\n",
    "        else :\n",
    "\n",
    "            # compute all the necessary objects to use the function p_hat and geo_proba\n",
    "            Lu,D = compute_geo(u)\n",
    "            longi = locations[locations.id == i].lng.values[0] # longitude of the location\n",
    "            lati = locations[locations.id == i].lat.values[0] # latitude of the location\n",
    "            li = [longi,lati]\n",
    "            L = list(np.unique(locations.id))\n",
    "\n",
    "            res_p_hat = p_hat(u,i,L,self.trainset,Lu)\n",
    "            res_geo_proba = geo_proba(li,Lu,D)\n",
    "\n",
    "            if np.isnan(res_p_hat) : # if the user has no friend in the trainset\n",
    "\n",
    "                score = res_geo_proba # the score is only geo_proba\n",
    "\n",
    "            else :\n",
    "\n",
    "                score = (res_p_hat + res_geo_proba) / 2\n",
    "\n",
    "        return score"
   ]
  },
  {
   "cell_type": "code",
   "execution_count": 28,
   "metadata": {
    "colab": {
     "base_uri": "https://localhost:8080/",
     "height": 487
    },
    "colab_type": "code",
    "id": "of3XVe3TEfbY",
    "outputId": "b6779b03-a3ad-4935-b3c9-25525b436d67"
   },
   "outputs": [
    {
     "name": "stdout",
     "output_type": "stream",
     "text": [
      "User and/or item is unkown.\n",
      "Recommendation score for user  2667435 and location  637950.0 :  nan\n",
      "Recommendation score for user  2269634 and location  257245.0 :  0.0014393013657580502\n",
      "Recommendation score for user  100958 and location  425510.0 :  0.00011668288624938668\n",
      "Recommendation score for user  374170 and location  9410.0 :  0.0017498214677857502\n",
      "User and/or item is unkown.\n",
      "Recommendation score for user  2474790 and location  7269355.0 :  nan\n",
      "Recommendation score for user  989323 and location  73825.0 :  0.002595357459826489\n",
      "User and/or item is unkown.\n",
      "Recommendation score for user  70633 and location  585102.0 :  nan\n",
      "User and/or item is unkown.\n",
      "Recommendation score for user  2080207 and location  6410924.0 :  nan\n",
      "User and/or item is unkown.\n",
      "Recommendation score for user  344886 and location  503204.0 :  nan\n",
      "Recommendation score for user  2140748 and location  1577977.0 :  0.0005881996777316659\n",
      "Recommendation score for user  13313 and location  43925.0 :  6.655685264068071e-05\n",
      "Recommendation score for user  2347123 and location  5882796.0 :  4.0622964814952105e-05\n",
      "Recommendation score for user  1163462 and location  14952.0 :  0.00014483293853256477\n",
      "Recommendation score for user  271261 and location  838519.0 :  0.0005343651125676039\n",
      "User and/or item is unkown.\n",
      "Recommendation score for user  2089372 and location  6377563.0 :  nan\n",
      "User and/or item is unkown.\n",
      "Recommendation score for user  72181 and location  570377.0 :  nan\n",
      "Recommendation score for user  387129 and location  333961.0 :  0.0005836725707608671\n",
      "Recommendation score for user  1476093 and location  110999.0 :  0.002588811612299162\n",
      "User and/or item is unkown.\n",
      "Recommendation score for user  208448 and location  346837.0 :  nan\n",
      "Recommendation score for user  287199 and location  246136.0 :  0.0006573298808689589\n"
     ]
    }
   ],
   "source": [
    "model = GSLR()\n",
    "model.fit(trainset)\n",
    "predictions = np.zeros(len(testset[:20]))\n",
    "\n",
    "for i in range(len(testset[:20])) :\n",
    "    predictions[i] = model.estimate(testset[i][0], testset[i][1]) \n",
    "    print(\"Recommendation score for user \",testset[i][0], \"and location \",testset[i][1],\": \",predictions[i])"
   ]
  }
 ],
 "metadata": {
  "accelerator": "GPU",
  "colab": {
   "collapsed_sections": [],
   "machine_shape": "hm",
   "name": "lbsn.ipynb",
   "provenance": []
  },
  "kernelspec": {
   "display_name": "Python 3",
   "language": "python",
   "name": "python3"
  },
  "language_info": {
   "codemirror_mode": {
    "name": "ipython",
    "version": 3
   },
   "file_extension": ".py",
   "mimetype": "text/x-python",
   "name": "python",
   "nbconvert_exporter": "python",
   "pygments_lexer": "ipython3",
   "version": "3.7.4"
  }
 },
 "nbformat": 4,
 "nbformat_minor": 4
}
